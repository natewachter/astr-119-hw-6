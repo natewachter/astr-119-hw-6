{
 "cells": [
  {
   "cell_type": "markdown",
   "metadata": {},
   "source": [
    "# Program to evolve coupled ODEs using Cash-Karp Runge-Kutta method with adaptive stepwise control"
   ]
  },
  {
   "cell_type": "code",
   "execution_count": null,
   "metadata": {},
   "outputs": [],
   "source": [
    "%matplotlib inline\n",
    "import matplotlib.pyplot as plt\n",
    "import numpy as np"
   ]
  },
  {
   "cell_type": "markdown",
   "metadata": {},
   "source": [
    "# Define coupled derivatives to integrate"
   ]
  },
  {
   "cell_type": "code",
   "execution_count": null,
   "metadata": {},
   "outputs": [],
   "source": [
    "def dydx(x,y):\n",
    "    \n",
    "    # Our equation is d^2y/dx^2 = -y\n",
    "    # dydx = z\n",
    "    # dzdx = -y\n",
    "    \n",
    "    # we will set y = y[0] and z = y[1]\n",
    "    \n",
    "    # declare an array\n",
    "    y_derivs = np.zeros(2)\n",
    "    \n",
    "    # set dydx = z\n",
    "    y_derivs[0] = y[1]\n",
    "    \n",
    "    # set dzdx = -y\n",
    "    y_derivs[1] = -1*y[0]\n",
    "    \n",
    "    # return the array\n",
    "    return y_derivs"
   ]
  },
  {
   "cell_type": "markdown",
   "metadata": {},
   "source": [
    "# Define the Cash-Karp method"
   ]
  },
  {
   "cell_type": "code",
   "execution_count": null,
   "metadata": {},
   "outputs": [],
   "source": [
    "def ck_mv_core(dydx,xi,yi,nv,h):\n",
    "    \n",
    "    # Declare the k? arrays\n",
    "    k1 = np.zeros(nv)\n",
    "    k2 = np.zeros(nv)\n",
    "    k3 = np.zeros(nv)\n",
    "    k4 = np.zeros(nv)\n",
    "    k5 = np.zeros(nv)    \n",
    "    k6 = np.zeros(nv)    \n",
    "    \n",
    "    # declare temp arrays\n",
    "    y_temp = np.zeros(nv)\n",
    "    x_temp = np.zeros(nv)\n",
    "    \n",
    "    # get the values of the derivatives at (xi,yi)\n",
    "    y_derivs = dydx(xi,yi)\n",
    "    \n",
    "    # get k1 values\n",
    "    k1[:] = h * y_derivs[:]\n",
    "    \n",
    "    # get k2 values\n",
    "    x_temp = xi + h*(1./5.)\n",
    "    y_temp[:] = yi[:] + k1*(1./5.)\n",
    "    y_derivs = dydx(x_temp,y_temp)\n",
    "    k2[:] = h * y_derivs[:]\n",
    "    \n",
    "    # get k3 values\n",
    "    x_temp = xi + h*(3./10.)\n",
    "    y_temp[:] = yi[:] + (k1 * 3./40.) + (k2 * 9./40.)\n",
    "    y_derivs = dydx(x_temp,y_temp)\n",
    "    k3[:] = h * y_derivs[:]\n",
    "    \n",
    "    # get k4 values\n",
    "    x_temp = xi + h*(3./5.)\n",
    "    y_temp[:] = yi[:] + (k1 * 3./10.) + (k2 * -9./10.) + (k3 * 6./5.)\n",
    "    y_derivs = dydx(x_temp,y_temp)\n",
    "    k4[:] = h * y_derivs[:]\n",
    "    \n",
    "    # get k5 values\n",
    "    x_temp = xi + h\n",
    "    y_temp[:] = yi[:] + (k1 * -11./54.) + (k2 * 5./2.) + (k3 * -70./27.) + (k4 * 35./27.)\n",
    "    y_derivs = dydx(x_temp,y_temp)\n",
    "    k5[:] = h * y_derivs[:]\n",
    "    \n",
    "    # get k6 values\n",
    "    x_temp = xi + h*(7./8.)\n",
    "    y_temp[:] = yi[:] + (k1 * 1631./55296.) + (k2 * 175./512.) + (k3 * 575./13824.) + (k4 * 44275./110592.) + (k5 * 253./4096.)\n",
    "    y_derivs = dydx(x_temp,y_temp)\n",
    "    k6[:] = h * y_derivs[:]\n",
    "    \n",
    "    \n",
    "    # advance y by a step h\n",
    "    y_ipo = yi + (k1 * 37./378.) + (k3 * 250./621.) + (k4 * 125./594.) + (k6 * 512./1771.)\n",
    "    y_ipostar = yi + (k1 * 2825./27648.) + (k3 * 18575./48384.) + (k4 * 13525./55296.) + (k5 * 277./14336.) + (k6 * 1./4.)\n",
    "    \n",
    "    \n",
    "    return y_ipo, y_ipostar"
   ]
  },
  {
   "cell_type": "markdown",
   "metadata": {},
   "source": [
    "# Define an adaptive step size driver for Cash-Karp"
   ]
  },
  {
   "cell_type": "code",
   "execution_count": null,
   "metadata": {},
   "outputs": [],
   "source": [
    "def ck_mv_ad(dydx,x_i,y_i, nv,h,tol):\n",
    "    \n",
    "    # define the safety scale\n",
    "    SAFETY = 0.9\n",
    "    H_NEW_FAC = 2.0\n",
    "    \n",
    "    # set a maximum number of iterations\n",
    "    imax = 10000\n",
    "    \n",
    "    # set an iteration variable\n",
    "    i = 0\n",
    "    \n",
    "    # create an error array\n",
    "    Delta = np.full(nv,2*tol)\n",
    "    \n",
    "    # remember the step\n",
    "    h_step = h\n",
    "    \n",
    "    # adjust the step\n",
    "    while(Delta.max()/tol > 1.0):\n",
    "        \n",
    "        # find error by taking a step\n",
    "        y_ipo, y_ipostar = ck_mv_core(dydx,x_i,y_i,nv,h_step)\n",
    "        \n",
    "        # compute the error\n",
    "        Delta = np.fabs(y_ipo - y_ipostar)\n",
    "        \n",
    "        # if the error is too large, take a smaller step\n",
    "        if(Delta.max()/tol > 1.0):\n",
    "            \n",
    "            # decrease step size\n",
    "            h_step *= (SAFETY * (Delta.max()/tol)**(-0.25))\n",
    "        \n",
    "        # check for too many iterations\n",
    "        if(i>=imax):\n",
    "            print(\"Too many iterations in ck_mv_ad()\")\n",
    "            raise StopIteration(\"Ending after i = \",i)\n",
    "        \n",
    "        # iterate loop\n",
    "        i+=1\n",
    "    \n",
    "    # next time try a bigger step\n",
    "    h_new = np.fmin(h_step * (Delta.max()/tol)**(-0.9), h_step*H_NEW_FAC)\n",
    "\n",
    "    \n",
    "    # return the answer, new step, step we took\n",
    "    return y_ipo, h_new, h_step"
   ]
  },
  {
   "cell_type": "markdown",
   "metadata": {},
   "source": [
    "# Define a wrapper for Cash Karp"
   ]
  },
  {
   "cell_type": "code",
   "execution_count": null,
   "metadata": {},
   "outputs": [],
   "source": [
    "def ck_mv(dfdx,a,b,y_a,tol):\n",
    "    # dydx is derivative wrt x\n",
    "    # a is the lower bound\n",
    "    # b is the upper bound\n",
    "    # y_a are the boundary conditions\n",
    "    # tol is the tolerance for integrating y\n",
    "    \n",
    "    # define our starting step\n",
    "    xi = a\n",
    "    yi = y_a.copy()\n",
    "    \n",
    "    # set the intial step size to be very small\n",
    "    h = 1.0e-4 * (b-a)\n",
    "    \n",
    "    # set the max number of iterations\n",
    "    imax = 10000\n",
    "    \n",
    "    # set iteration var\n",
    "    i = 0\n",
    "    \n",
    "    # set the number of coupled ODEs to the size of y_a\n",
    "    nv = len(y_a)\n",
    "    \n",
    "    # set the initial conditions\n",
    "    x = np.full(1,a)\n",
    "    y = np.full((1,nv),y_a)\n",
    "    \n",
    "    \n",
    "    flag = 1\n",
    "    \n",
    "    # loop until we reach the right side\n",
    "    while(flag):\n",
    "        \n",
    "        # calculate y_i+1\n",
    "        yi_new, h_new, h_step = ck_mv_ad(dydx,xi,yi,nv,h,tol)\n",
    "        \n",
    "        # update the step\n",
    "        h = h_new\n",
    "        \n",
    "        # prevent an overshoot\n",
    "        if(xi+h_step>b):\n",
    "            \n",
    "            # take a smaller step\n",
    "            h = b-xi\n",
    "            \n",
    "            # recalculate y_i+1\n",
    "            yi_new, h_new, h_step = ck_mv_ad(dydx,xi,yi,nv,h,tol)\n",
    "            \n",
    "            # break out of loop\n",
    "            flag = 0\n",
    "        \n",
    "        # update values\n",
    "        xi += h_step\n",
    "        yi[:] = yi_new[:]\n",
    "        \n",
    "        # add the step to the arrays\n",
    "        x = np.append(x,xi)\n",
    "        y_new = np.zeros((len(x),nv))\n",
    "        y_new[0:len(x)-1,:] = y\n",
    "        y_new[-1,:] = yi[:]\n",
    "        del y\n",
    "        y = y_new\n",
    "        \n",
    "        # prevent too many iterations\n",
    "        if (i>=imax):\n",
    "            \n",
    "            print(\"Too many iterations in rk4_mv()\")\n",
    "            raise StopIteration(\"Ending after i = \",i)\n",
    "        \n",
    "        # iterate\n",
    "        i += 1\n",
    "        \n",
    "        # output some information\n",
    "        s = \"i = %3d\\tx = %9.8f\\th = %9.8f\\tb = %9.8f\" % (i,xi,h_step,b)\n",
    "        print(s)\n",
    "        \n",
    "        # break if new xi is == b\n",
    "        if(xi==b):\n",
    "            flag = 0\n",
    "            \n",
    "    return x,y"
   ]
  },
  {
   "cell_type": "markdown",
   "metadata": {},
   "source": [
    "# Perform the integration"
   ]
  },
  {
   "cell_type": "code",
   "execution_count": null,
   "metadata": {},
   "outputs": [],
   "source": [
    "a = 0.0\n",
    "b = 2.0 * np.pi\n",
    "\n",
    "y_0 = np.zeros(2)\n",
    "y_0[0] = 0.0\n",
    "y_0[1] = 1.0\n",
    "nv = 2\n",
    "\n",
    "tolerance = 1.0e-6\n",
    "\n",
    "# perform the integration\n",
    "x,y = ck_mv(dydx,a,b,y_0,tolerance)"
   ]
  },
  {
   "cell_type": "markdown",
   "metadata": {},
   "source": [
    "# Plot the result"
   ]
  },
  {
   "cell_type": "code",
   "execution_count": null,
   "metadata": {},
   "outputs": [],
   "source": [
    "plt.plot(x,y[:,0],'o',label='y(x)')\n",
    "plt.plot(x,y[:,1],'o',label='dydx(x)')\n",
    "xx = np.linspace(0,2.0*np.pi,1000)\n",
    "plt.plot(xx,np.sin(xx),label='sin(x)')\n",
    "plt.plot(xx,np.cos(xx),label='cos(x)')\n",
    "plt.xlabel('x')\n",
    "plt.ylabel('y, dy/dx')\n",
    "plt.legend(frameon=False)"
   ]
  },
  {
   "cell_type": "markdown",
   "metadata": {},
   "source": [
    "# Plot the error"
   ]
  },
  {
   "cell_type": "code",
   "execution_count": null,
   "metadata": {},
   "outputs": [],
   "source": [
    "sine = np.sin(x)\n",
    "cosine = np.cos(x)\n",
    "\n",
    "y_error = (y[:,0]-sine)\n",
    "dydx_error = (y[:,1]-cosine)\n",
    "\n",
    "plt.plot(x, y_error, label=\"y(x) Error\")\n",
    "plt.plot(x, dydx_error, label=\"dydx(x) Error\")\n",
    "plt.legend(frameon=False)"
   ]
  },
  {
   "cell_type": "code",
   "execution_count": null,
   "metadata": {},
   "outputs": [],
   "source": []
  }
 ],
 "metadata": {
  "kernelspec": {
   "display_name": "Python 3",
   "language": "python",
   "name": "python3"
  },
  "language_info": {
   "codemirror_mode": {
    "name": "ipython",
    "version": 3
   },
   "file_extension": ".py",
   "mimetype": "text/x-python",
   "name": "python",
   "nbconvert_exporter": "python",
   "pygments_lexer": "ipython3",
   "version": "3.8.6"
  }
 },
 "nbformat": 4,
 "nbformat_minor": 4
}
